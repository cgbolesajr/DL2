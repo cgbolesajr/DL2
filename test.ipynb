{
 "cells": [
  {
   "cell_type": "code",
   "execution_count": 22,
   "metadata": {},
   "outputs": [],
   "source": [
    "import numpy as np\n",
    "from random import randint\n",
    "from sklearn.utils import shuffle\n",
    "from sklearn.preprocessing import MinMaxScaler"
   ]
  },
  {
   "cell_type": "code",
   "execution_count": 23,
   "metadata": {},
   "outputs": [],
   "source": [
    "train_labels = []\n",
    "train_samples = []\n",
    "test_labels = []\n",
    "test_samples = []"
   ]
  },
  {
   "cell_type": "code",
   "execution_count": 24,
   "metadata": {},
   "outputs": [],
   "source": [
    "for i in range(50):\n",
    "    # The ~5% of younger individuals who did experience side effects\n",
    "    random_younger = randint(13, 64)\n",
    "    train_samples.append(random_younger)\n",
    "    train_labels.append(1)\n",
    "\n",
    "    # The ~5% of older individuals who did not experience side effects\n",
    "    random_older = randint(65, 100)\n",
    "    train_samples.append(random_older)\n",
    "    train_labels.append(0)\n",
    "\n",
    "for i in range(1000):\n",
    "    # The ~95% of younger individuals who did not experience side effects\n",
    "    random_younger = randint(13, 64)\n",
    "    train_samples.append(random_younger)\n",
    "    train_labels.append(0)\n",
    "\n",
    "    # The ~95% of older individuals who did experience side effects\n",
    "    random_older = randint(65, 100)\n",
    "    train_samples.append(random_older)\n",
    "    train_labels.append(1)\n",
    "\n",
    "\n",
    "for i in range(10):\n",
    "    # The 5% of younger individuals who did experience side effects\n",
    "    random_younger = randint(13, 64)\n",
    "    test_samples.append(random_younger)\n",
    "    test_labels.append(1)\n",
    "\n",
    "    # The 5% of older individuals who did not experience side effects\n",
    "    random_older = randint(65, 100)\n",
    "    test_samples.append(random_older)\n",
    "    test_labels.append(0)\n",
    "\n",
    "for i in range(200):\n",
    "    # The 95% of younger individuals who did not experience side effects\n",
    "    random_younger = randint(13, 64)\n",
    "    test_samples.append(random_younger)\n",
    "    test_labels.append(0)\n",
    "\n",
    "    # The 95% of older individuals who did experience side effects\n",
    "    random_older = randint(65, 100)\n",
    "    test_samples.append(random_older)\n",
    "    test_labels.append(1)\n"
   ]
  },
  {
   "cell_type": "code",
   "execution_count": 25,
   "metadata": {},
   "outputs": [],
   "source": [
    "train_samples = np.array(train_samples)\n",
    "train_labels = np.array(train_labels)\n",
    "test_samples = np.array(test_samples)\n",
    "test_labels = np.array(test_labels)\n"
   ]
  },
  {
   "cell_type": "code",
   "execution_count": 26,
   "metadata": {},
   "outputs": [],
   "source": [
    "train_samples, train_labels = shuffle(train_samples, train_labels)\n",
    "test_samples, test_labels = shuffle(test_samples, test_labels)"
   ]
  },
  {
   "cell_type": "code",
   "execution_count": 27,
   "metadata": {},
   "outputs": [],
   "source": [
    "scaler = MinMaxScaler(feature_range=(0,1))"
   ]
  },
  {
   "cell_type": "code",
   "execution_count": 28,
   "metadata": {},
   "outputs": [],
   "source": [
    "scaled_train_samples = scaler.fit_transform(train_samples.reshape(-1,1))\n",
    "scaled_test_samples = scaler.fit_transform(test_samples.reshape(-1,1))"
   ]
  },
  {
   "cell_type": "code",
   "execution_count": 30,
   "metadata": {},
   "outputs": [],
   "source": [
    "import tensorflow as tf\n",
    "from tensorflow import keras\n",
    "from tensorflow.keras.models import Sequential\n",
    "from tensorflow.keras.layers import Dense\n",
    "from tensorflow.keras.optimizers import Adam"
   ]
  },
  {
   "cell_type": "code",
   "execution_count": 33,
   "metadata": {},
   "outputs": [
    {
     "name": "stdout",
     "output_type": "stream",
     "text": [
      "Epoch 1/30\n",
      "210/210 - 1s - loss: 0.5354 - accuracy: 0.7643 - 1s/epoch - 5ms/step\n",
      "Epoch 2/30\n",
      "210/210 - 1s - loss: 0.3129 - accuracy: 0.9143 - 681ms/epoch - 3ms/step\n",
      "Epoch 3/30\n",
      "210/210 - 1s - loss: 0.2667 - accuracy: 0.9343 - 635ms/epoch - 3ms/step\n",
      "Epoch 4/30\n",
      "210/210 - 1s - loss: 0.2540 - accuracy: 0.9371 - 647ms/epoch - 3ms/step\n",
      "Epoch 5/30\n",
      "210/210 - 1s - loss: 0.2465 - accuracy: 0.9419 - 723ms/epoch - 3ms/step\n",
      "Epoch 6/30\n",
      "210/210 - 1s - loss: 0.2423 - accuracy: 0.9424 - 718ms/epoch - 3ms/step\n",
      "Epoch 7/30\n",
      "210/210 - 1s - loss: 0.2388 - accuracy: 0.9386 - 680ms/epoch - 3ms/step\n",
      "Epoch 8/30\n",
      "210/210 - 1s - loss: 0.2351 - accuracy: 0.9429 - 623ms/epoch - 3ms/step\n",
      "Epoch 9/30\n",
      "210/210 - 1s - loss: 0.2342 - accuracy: 0.9452 - 622ms/epoch - 3ms/step\n",
      "Epoch 10/30\n",
      "210/210 - 1s - loss: 0.2320 - accuracy: 0.9429 - 643ms/epoch - 3ms/step\n",
      "Epoch 11/30\n",
      "210/210 - 1s - loss: 0.2310 - accuracy: 0.9424 - 648ms/epoch - 3ms/step\n",
      "Epoch 12/30\n",
      "210/210 - 1s - loss: 0.2305 - accuracy: 0.9433 - 677ms/epoch - 3ms/step\n",
      "Epoch 13/30\n",
      "210/210 - 1s - loss: 0.2289 - accuracy: 0.9452 - 672ms/epoch - 3ms/step\n",
      "Epoch 14/30\n",
      "210/210 - 1s - loss: 0.2285 - accuracy: 0.9448 - 573ms/epoch - 3ms/step\n",
      "Epoch 15/30\n",
      "210/210 - 1s - loss: 0.2290 - accuracy: 0.9438 - 576ms/epoch - 3ms/step\n",
      "Epoch 16/30\n",
      "210/210 - 1s - loss: 0.2276 - accuracy: 0.9481 - 586ms/epoch - 3ms/step\n",
      "Epoch 17/30\n",
      "210/210 - 1s - loss: 0.2266 - accuracy: 0.9433 - 537ms/epoch - 3ms/step\n",
      "Epoch 18/30\n",
      "210/210 - 1s - loss: 0.2253 - accuracy: 0.9462 - 524ms/epoch - 2ms/step\n",
      "Epoch 19/30\n",
      "210/210 - 1s - loss: 0.2249 - accuracy: 0.9452 - 503ms/epoch - 2ms/step\n",
      "Epoch 20/30\n",
      "210/210 - 1s - loss: 0.2236 - accuracy: 0.9490 - 532ms/epoch - 3ms/step\n",
      "Epoch 21/30\n",
      "210/210 - 1s - loss: 0.2234 - accuracy: 0.9467 - 517ms/epoch - 2ms/step\n",
      "Epoch 22/30\n",
      "210/210 - 1s - loss: 0.2231 - accuracy: 0.9490 - 566ms/epoch - 3ms/step\n",
      "Epoch 23/30\n",
      "210/210 - 1s - loss: 0.2228 - accuracy: 0.9476 - 555ms/epoch - 3ms/step\n",
      "Epoch 24/30\n",
      "210/210 - 1s - loss: 0.2220 - accuracy: 0.9429 - 533ms/epoch - 3ms/step\n",
      "Epoch 25/30\n",
      "210/210 - 1s - loss: 0.2211 - accuracy: 0.9486 - 564ms/epoch - 3ms/step\n",
      "Epoch 26/30\n",
      "210/210 - 1s - loss: 0.2202 - accuracy: 0.9462 - 536ms/epoch - 3ms/step\n",
      "Epoch 27/30\n",
      "210/210 - 1s - loss: 0.2222 - accuracy: 0.9429 - 532ms/epoch - 3ms/step\n",
      "Epoch 28/30\n",
      "210/210 - 1s - loss: 0.2196 - accuracy: 0.9481 - 518ms/epoch - 2ms/step\n",
      "Epoch 29/30\n",
      "210/210 - 1s - loss: 0.2187 - accuracy: 0.9486 - 502ms/epoch - 2ms/step\n",
      "Epoch 30/30\n",
      "210/210 - 1s - loss: 0.2195 - accuracy: 0.9452 - 531ms/epoch - 3ms/step\n"
     ]
    },
    {
     "data": {
      "text/plain": [
       "<keras.callbacks.History at 0x13aa503a490>"
      ]
     },
     "execution_count": 33,
     "metadata": {},
     "output_type": "execute_result"
    }
   ],
   "source": [
    "model = Sequential([\n",
    "    Dense(16, input_shape=(1,), activation='relu'),\n",
    "    Dense(32, activation='relu'),\n",
    "    Dense(2, activation='softmax')\n",
    "])\n",
    "\n",
    "model.compile(\n",
    "    optimizer = Adam(learning_rate=0.001),\n",
    "    loss = 'sparse_categorical_crossentropy',\n",
    "    metrics = ['accuracy']\n",
    ")\n",
    "\n",
    "model.fit(scaled_train_samples, train_labels, batch_size=10, epochs=30, verbose=2)"
   ]
  },
  {
   "cell_type": "code",
   "execution_count": 34,
   "metadata": {},
   "outputs": [
    {
     "name": "stdout",
     "output_type": "stream",
     "text": [
      "42/42 - 0s - loss: 0.2389 - accuracy: 0.9524 - 278ms/epoch - 7ms/step\n"
     ]
    },
    {
     "data": {
      "text/plain": [
       "[0.23889224231243134, 0.9523809552192688]"
      ]
     },
     "execution_count": 34,
     "metadata": {},
     "output_type": "execute_result"
    }
   ],
   "source": [
    "model.evaluate(scaled_test_samples, test_labels, batch_size=10, verbose=2)"
   ]
  },
  {
   "cell_type": "code",
   "execution_count": 38,
   "metadata": {},
   "outputs": [
    {
     "name": "stdout",
     "output_type": "stream",
     "text": [
      "42/42 - 0s - 106ms/epoch - 3ms/step\n"
     ]
    },
    {
     "data": {
      "text/plain": [
       "array([[0.9593875 , 0.04061244],\n",
       "       [0.03640051, 0.9635995 ],\n",
       "       [0.9621297 , 0.03787028],\n",
       "       [0.4474197 , 0.5525803 ],\n",
       "       [0.96072423, 0.03927569]], dtype=float32)"
      ]
     },
     "execution_count": 38,
     "metadata": {},
     "output_type": "execute_result"
    }
   ],
   "source": [
    "model_predictions = model.predict(scaled_test_samples, batch_size=10, verbose=2)\n",
    "model_predictions[:5]"
   ]
  },
  {
   "cell_type": "code",
   "execution_count": 42,
   "metadata": {},
   "outputs": [
    {
     "data": {
      "text/plain": [
       "array([0, 1, 0, 1, 0], dtype=int64)"
      ]
     },
     "execution_count": 42,
     "metadata": {},
     "output_type": "execute_result"
    }
   ],
   "source": [
    "rounded_model_predictions = np.argmax(model_predictions, axis=1)\n",
    "rounded_model_predictions[:5]"
   ]
  },
  {
   "cell_type": "code",
   "execution_count": 43,
   "metadata": {},
   "outputs": [
    {
     "data": {
      "text/plain": [
       "array([0, 1, 0, 1, 0])"
      ]
     },
     "execution_count": 43,
     "metadata": {},
     "output_type": "execute_result"
    }
   ],
   "source": [
    "test_labels[:5]"
   ]
  },
  {
   "cell_type": "code",
   "execution_count": 45,
   "metadata": {},
   "outputs": [],
   "source": [
    "import matplotlib.pyplot as plt\n",
    "import itertools\n",
    "from sklearn.metrics import confusion_matrix, classification_report"
   ]
  },
  {
   "cell_type": "code",
   "execution_count": 46,
   "metadata": {},
   "outputs": [
    {
     "name": "stdout",
     "output_type": "stream",
     "text": [
      "              precision    recall  f1-score   support\n",
      "\n",
      "           0       0.95      0.95      0.95       210\n",
      "           1       0.95      0.95      0.95       210\n",
      "\n",
      "    accuracy                           0.95       420\n",
      "   macro avg       0.95      0.95      0.95       420\n",
      "weighted avg       0.95      0.95      0.95       420\n",
      "\n"
     ]
    }
   ],
   "source": [
    "print(classification_report(test_labels, rounded_model_predictions))"
   ]
  },
  {
   "cell_type": "code",
   "execution_count": 47,
   "metadata": {},
   "outputs": [],
   "source": [
    "cm = confusion_matrix(test_labels, rounded_model_predictions)"
   ]
  },
  {
   "cell_type": "code",
   "execution_count": 48,
   "metadata": {},
   "outputs": [],
   "source": [
    "def plot_confusion_matrix(cm, classes,\n",
    "                          normalize=False,\n",
    "                          title='Confusion matrix',\n",
    "                          cmap=plt.cm.Blues):\n",
    "    \"\"\"\n",
    "    This function prints and plots the confusion matrix.\n",
    "    Normalization can be applied by setting `normalize=True`.\n",
    "    \"\"\"\n",
    "    plt.imshow(cm, interpolation='nearest', cmap=cmap)\n",
    "    plt.title(title)\n",
    "    plt.colorbar()\n",
    "    tick_marks = np.arange(len(classes))\n",
    "    plt.xticks(tick_marks, classes, rotation=45)\n",
    "    plt.yticks(tick_marks, classes)\n",
    "\n",
    "    if normalize:\n",
    "        cm = cm.astype('float') / cm.sum(axis=1)[:, np.newaxis]\n",
    "        print(\"Normalized confusion matrix\")\n",
    "    else:\n",
    "        print('Confusion matrix, without normalization')\n",
    "\n",
    "    print(cm)\n",
    "\n",
    "    thresh = cm.max() / 2.\n",
    "    for i, j in itertools.product(range(cm.shape[0]), range(cm.shape[1])):\n",
    "        plt.text(j, i, cm[i, j],\n",
    "                 horizontalalignment=\"center\",\n",
    "                 color=\"white\" if cm[i, j] > thresh else \"black\")\n",
    "\n",
    "    plt.tight_layout()\n",
    "    plt.ylabel('True label')\n",
    "    plt.xlabel('Predicted label')\n"
   ]
  },
  {
   "cell_type": "code",
   "execution_count": 49,
   "metadata": {},
   "outputs": [],
   "source": [
    "plot_labels = ['no side effects', 'had side effects']"
   ]
  },
  {
   "cell_type": "code",
   "execution_count": 50,
   "metadata": {},
   "outputs": [
    {
     "name": "stdout",
     "output_type": "stream",
     "text": [
      "Confusion matrix, without normalization\n",
      "[[200  10]\n",
      " [ 10 200]]\n"
     ]
    },
    {
     "data": {
      "image/png": "[encoded data removed]",
      "text/plain": [
       "<Figure size 432x288 with 2 Axes>"
      ]
     },
     "metadata": {
      "needs_background": "light"
     },
     "output_type": "display_data"
    }
   ],
   "source": [
    "plot_confusion_matrix(cm, plot_labels, title='Confusion Matrix')"
   ]
  }
 ],
 "metadata": {
  "interpreter": {
   "hash": "540d8e3fe5dce4d114b8db95b56ba4a71294e797899f8ee8d8f36e3b24034e00"
  },
  "kernelspec": {
   "display_name": "Python 3.9.7 64-bit ('tensorflow': conda)",
   "language": "python",
   "name": "python3"
  },
  "language_info": {
   "codemirror_mode": {
    "name": "ipython",
    "version": 3
   },
   "file_extension": ".py",
   "mimetype": "text/x-python",
   "name": "python",
   "nbconvert_exporter": "python",
   "pygments_lexer": "ipython3",
   "version": "3.9.7"
  },
  "orig_nbformat": 4
 },
 "nbformat": 4,
 "nbformat_minor": 2
}
